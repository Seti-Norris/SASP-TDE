{
 "cells": [
  {
   "cell_type": "code",
   "execution_count": 26,
   "id": "c40dd154-57c7-4afe-b124-d87cf5caafea",
   "metadata": {},
   "outputs": [],
   "source": [
    "import numpy as np \n",
    "import matplotlib.pyplot as plt\n",
    "import json \n",
    "from astropy import units as u\n",
    "import itertools as it\n",
    "import os\n",
    "import matplotlib.colors as mcolors\n",
    "import random"
   ]
  },
  {
   "cell_type": "code",
   "execution_count": 2,
   "id": "386703aa-2c99-4f7e-bdca-479aefb591bd",
   "metadata": {
    "scrolled": true
   },
   "outputs": [
    {
     "data": {
      "text/plain": [
       "'ASASSN-14ae.json'"
      ]
     },
     "execution_count": 2,
     "metadata": {},
     "output_type": "execute_result"
    }
   ],
   "source": [
    "json_list = os.listdir(\"/Users/snorris/manyTDE/data/sources/\")\n",
    "del json_list[64]\n",
    "json_list[-32]"
   ]
  },
  {
   "cell_type": "code",
   "execution_count": 3,
   "id": "4a8b2a0d-ca00-4d55-bddd-b8f90af2cd09",
   "metadata": {},
   "outputs": [
    {
     "name": "stdout",
     "output_type": "stream",
     "text": [
      "92\n"
     ]
    },
    {
     "data": {
      "text/plain": [
       "list"
      ]
     },
     "execution_count": 3,
     "metadata": {},
     "output_type": "execute_result"
    }
   ],
   "source": [
    "print(len(json_list))\n",
    "type(json_list)"
   ]
  },
  {
   "cell_type": "code",
   "execution_count": 4,
   "id": "3f2aca73-f37e-4eb7-a57d-085b46b41405",
   "metadata": {
    "scrolled": true
   },
   "outputs": [
    {
     "name": "stderr",
     "output_type": "stream",
     "text": [
      "IOPub data rate exceeded.\n",
      "The Jupyter server will temporarily stop sending output\n",
      "to the client in order to avoid crashing it.\n",
      "To change this limit, set the config variable\n",
      "`--ServerApp.iopub_data_rate_limit`.\n",
      "\n",
      "Current values:\n",
      "ServerApp.iopub_data_rate_limit=1000000.0 (bytes/sec)\n",
      "ServerApp.rate_limit_window=3.0 (secs)\n",
      "\n"
     ]
    }
   ],
   "source": [
    "TDE_data = []\n",
    "for file in range(len(json_list)):\n",
    "    with open(\"/Users/snorris/manyTDE/data/sources/\" + json_list[file]) as f:\n",
    "        TDE_data.append(json.load(f))\n",
    "print(TDE_data)"
   ]
  },
  {
   "cell_type": "code",
   "execution_count": 5,
   "id": "526d767f-311d-4d77-8589-d0ee0bf7f216",
   "metadata": {},
   "outputs": [
    {
     "data": {
      "text/plain": [
       "list"
      ]
     },
     "execution_count": 5,
     "metadata": {},
     "output_type": "execute_result"
    }
   ],
   "source": [
    "type(TDE_data)"
   ]
  },
  {
   "cell_type": "code",
   "execution_count": 6,
   "id": "05f97dcd-3730-420e-9148-4af8c35fa575",
   "metadata": {
    "scrolled": true
   },
   "outputs": [
    {
     "data": {
      "text/plain": [
       "dict_keys(['name', 'catalog_version', 'catalog_creation_date', 'ra', 'dec', 'z', 'peak_year', 'peak_mjd', 'peak_limit', 'spectral_type', 'spectral_subtype', 'paper_ref', 'nickname', 'extinction', 'host', 'lightcurve'])"
      ]
     },
     "execution_count": 6,
     "metadata": {},
     "output_type": "execute_result"
    }
   ],
   "source": [
    "TDE_data[91].keys()"
   ]
  },
  {
   "cell_type": "code",
   "execution_count": 7,
   "id": "9cdfc450-4df8-4cb7-9ff6-91f3ca1c34d5",
   "metadata": {},
   "outputs": [
    {
     "name": "stdout",
     "output_type": "stream",
     "text": [
      "AT2022hvp.json\n"
     ]
    }
   ],
   "source": [
    "print(json_list[91])"
   ]
  },
  {
   "cell_type": "code",
   "execution_count": 8,
   "id": "9da86ec1-0f94-44ff-a58e-9161b497ed9f",
   "metadata": {},
   "outputs": [],
   "source": [
    "from astropy.cosmology import WMAP9 as cosmo\n",
    "Ho = cosmo.H(0)  \n",
    "from astropy.constants import c\n",
    "from astropy.constants import e\n",
    "sol = c.to(u.km/u.s)\n",
    "\n"
   ]
  },
  {
   "cell_type": "code",
   "execution_count": 9,
   "id": "2bf411af-e51d-4a5e-92c6-30fe16373c85",
   "metadata": {},
   "outputs": [
    {
     "data": {
      "text/plain": [
       "0.112"
      ]
     },
     "execution_count": 9,
     "metadata": {},
     "output_type": "execute_result"
    }
   ],
   "source": [
    "TDE_data[91].get('z')"
   ]
  },
  {
   "cell_type": "code",
   "execution_count": 10,
   "id": "1fa2a485-1504-4105-8ff7-a344810fddde",
   "metadata": {
    "scrolled": true
   },
   "outputs": [
    {
     "data": {
      "text/plain": [
       "[[57630.842524, 'UVW2.uvot', 0.0008790225168308824, 3.817546285283605e-05],\n",
       " [57635.247923, 'UVW2.uvot', 0.0006982324040771676, 3.790481002209443e-05],\n",
       " [57636.617443, 'UVW2.uvot', 0.0006792036326171801, 2.9497438973428475e-05],\n",
       " [57638.610965, 'UVW2.uvot', 0.0005915616341754767, 3.2113994178509945e-05],\n",
       " [57639.48179, 'UVW2.uvot', 0.0005345643593969647, 2.9019793938531063e-05],\n",
       " [57640.182468, 'UVW2.uvot', 0.0005445026528424219, 2.9559312188893226e-05],\n",
       " [57642.574542, 'UVW2.uvot', 0.0004528975799036195, 2.9503637972921845e-05],\n",
       " [57643.602521, 'UVW2.uvot', 0.0004405548635065516, 2.3916318274566952e-05],\n",
       " [57645.849684, 'UVW2.uvot', 0.00036307805477010324, 1.9710349460852806e-05],\n",
       " [57648.720847, 'UVW2.uvot', 0.0002992264636608183, 1.6244050250914658e-05],\n",
       " [57651.438241, 'UVW2.uvot', 0.00022080047330188878, 1.4383864073495485e-05],\n",
       " [57655.390176, 'UVW2.uvot', 0.00020137242498623648, 1.5304613271324827e-05],\n",
       " [57655.45011, 'UVW2.uvot', 0.00020701413487910202, 1.79810192907939e-05],\n",
       " [57657.509081, 'UVW2.uvot', 0.00015135612484362072, 1.1503297718822727e-05],\n",
       " [57660.441925, 'UVW2.uvot', 0.00014060475241299127, 1.0686176917908631e-05],\n",
       " [57663.660582, 'UVW2.uvot', 0.00013061708881318296, 9.927099159920656e-06],\n",
       " [57667.582083, 'UVW2.uvot', 0.0001076465213629826, 9.35005804480477e-06],\n",
       " [57671.604927, 'UVW2.uvot', 8.629785477669702e-05, 1.0306637585642115e-05],\n",
       " [57676.565432, 'UVW2.uvot', 7.177942912713585e-05, 7.79335249602016e-06],\n",
       " [57679.611534, 'UVW2.uvot', 7.379042301290985e-05, 7.21052404465803e-06],\n",
       " [57683.096434, 'UVW2.uvot', 7.726805850956989e-05, 8.38927285952095e-06],\n",
       " [57687.855418, 'UVW2.uvot', 5.597576014951116e-05, 6.685240032149975e-06],\n",
       " [57691.86582, 'UVW2.uvot', 5.970352865838317e-05, 7.130451087784327e-06],\n",
       " [57713.138071, 'UVW2.uvot', 4.05508535448381e-05, 5.28330357929703e-06],\n",
       " [57716.757806, 'UVW2.uvot', 4.4463126746910836e-05, 5.31027491344577e-06],\n",
       " [57720.107604, 'UVW2.uvot', 3.801893963205597e-05, 4.953424707004425e-06],\n",
       " [57724.806799, 'UVW2.uvot', 3.564511334262409e-05, 5.031154710243225e-06],\n",
       " [57728.15919, 'UVW2.uvot', 4.207266283844428e-05, 5.024779460170897e-06],\n",
       " [57732.434111, 'UVW2.uvot', 4.017908108489358e-05, 5.23486596093378e-06],\n",
       " [57741.037505, 'UVW2.uvot', 4.6131757456037714e-05, 6.51129950368832e-06],\n",
       " [57743.165129, 'UVW2.uvot', 3.698281797802644e-05, 6.023037664908472e-06],\n",
       " [57744.57224, 'UVW2.uvot', 3.3113112148258805e-05, 5.0332946596213156e-06],\n",
       " [57748.578809, 'UVW2.uvot', 3.4040818970099804e-05, 5.543902439318204e-06],\n",
       " [57932.18341, 'UVW2.uvot', 3.28095293113115e-05, 5.3433740751545924e-06],\n",
       " [58681.695219, 'UVW2.uvot', 2.558585886905632e-05, 3.889129062555287e-06],\n",
       " [59582.398478, 'UVW2.uvot', 2.051162178825554e-05, 3.785935766948504e-06],\n",
       " [59724.494136, 'UVW2.uvot', 1.8535316234148142e-05, 3.622403502370034e-06],\n",
       " [59725.228085, 'UVW2.uvot', 2.72897778280804e-05, 6.518489957705563e-06],\n",
       " [59779.603691, 'UVW2.uvot', 2.051162178825554e-05, 4.89944628663924e-06],\n",
       " [59809.608917, 'UVW2.uvot', 1.870682140365809e-05, 4.671454852996052e-06],\n",
       " [57630.870383, 'UVM2.uvot', 0.0006426877173170141, 3.4889466152222025e-05],\n",
       " [57635.258044, 'UVM2.uvot', 0.0005445026528424219, 2.364744975111458e-05],\n",
       " [57636.62159, 'UVM2.uvot', 0.0005105049999754044, 2.771368805916723e-05],\n",
       " [57638.32158, 'UVM2.uvot', 0.0004613175745603772, 2.5043459629570468e-05],\n",
       " [57639.48634, 'UVM2.uvot', 0.0004168693834703329, 2.2630509114447027e-05],\n",
       " [57640.185671, 'UVM2.uvot', 0.00040550853544838095, 2.2013764913737626e-05],\n",
       " [57642.578044, 'UVM2.uvot', 0.0003499451670283548, 2.279688825136894e-05],\n",
       " [57643.606549, 'UVM2.uvot', 0.0003019951720402019, 1.639435459731036e-05],\n",
       " [57645.8541, 'UVM2.uvot', 0.0002679168324819015, 1.4544350244485963e-05],\n",
       " [57648.689877, 'UVM2.uvot', 0.00023334580622809948, 1.7734639303522586e-05],\n",
       " [57651.442999, 'UVM2.uvot', 0.000175388050184176, 1.1425509358013734e-05],\n",
       " [57655.39526, 'UVM2.uvot', 0.0001472312502432716, 1.278834390887393e-05],\n",
       " [57655.452774, 'UVM2.uvot', 0.0001472312502432716, 1.5985429886092412e-05],\n",
       " [57657.516353, 'UVM2.uvot', 0.00012823305826560125, 9.745909180407539e-06],\n",
       " [57660.446179, 'UVM2.uvot', 0.00011376272858234239, 8.646141922174511e-06],\n",
       " [57663.664769, 'UVM2.uvot', 0.00011066237839776583, 9.612012058487862e-06],\n",
       " [57667.586511, 'UVM2.uvot', 9.289663867799362e-05, 8.068899513042563e-06],\n",
       " [57676.566852, 'UVM2.uvot', 7.870457896950936e-05, 1.3672385738790655e-05],\n",
       " [57679.615862, 'UVM2.uvot', 6.854882264526591e-05, 7.442593853950912e-06],\n",
       " [57683.103827, 'UVM2.uvot', 6.792036326171802e-05, 7.37435974335712e-06],\n",
       " [57687.859813, 'UVM2.uvot', 5.44502652842422e-05, 6.50304868155651e-06],\n",
       " [57691.873233, 'UVM2.uvot', 5.8076441752130634e-05, 6.936126499919637e-06],\n",
       " [57713.13144, 'UVM2.uvot', 3.9810717055349525e-05, 6.4835905266562386e-06],\n",
       " [57716.749999, 'UVM2.uvot', 3.801893963205597e-05, 6.6045662760059e-06],\n",
       " [57720.100736, 'UVM2.uvot', 4.4874538993312945e-05, 6.333848515393137e-06],\n",
       " [57724.802893, 'UVM2.uvot', 4.3651583224016295e-05, 6.635174602185792e-06],\n",
       " [57728.151183, 'UVM2.uvot', 3.908408957923977e-05, 6.365251662928581e-06],\n",
       " [57732.425627, 'UVM2.uvot', 4.3651583224016295e-05, 6.635174602185792e-06],\n",
       " [57736.80112, 'UVM2.uvot', 2.3768402866248635e-05, 1.7548226554390867e-05],\n",
       " [57741.003073, 'UVM2.uvot', 3.664375746478303e-05, 5.967818123683635e-06],\n",
       " [57743.155223, 'UVM2.uvot', 3.372873086588651e-05, 7.324100848327199e-06],\n",
       " [57744.566651, 'UVM2.uvot', 3.767037989839062e-05, 6.544015248428089e-06],\n",
       " [57748.572518, 'UVM2.uvot', 3.597493351557401e-05, 7.0306718006925634e-06],\n",
       " [57932.187345, 'UVM2.uvot', 2.1478304741305195e-05, 4.89715234563728e-06],\n",
       " [59724.500597, 'UVM2.uvot', 1.6292960326397213e-05, 4.245565658173747e-06],\n",
       " [59725.232262, 'UVM2.uvot', 2.4888573182823748e-05, 9.728072996171044e-06],\n",
       " [59779.606836, 'UVM2.uvot', 1.3931568029452977e-05, 6.050403119451187e-06],\n",
       " [59809.613625, 'UVM2.uvot', 1.5135612484362071e-05, 5.915981683965974e-06],\n",
       " [57630.88156, 'UVW1.uvot', 0.000654636174067268, 3.553810975645888e-05],\n",
       " [57635.243137, 'UVW1.uvot', 0.0005754399373371589, 3.748655841784216e-05],\n",
       " [57636.613903, 'UVW1.uvot', 0.000529663443891658, 2.875373886850246e-05],\n",
       " [57638.60824, 'UVW1.uvot', 0.00044463126746910835, 2.896513589152238e-05],\n",
       " [57639.478063, 'UVW1.uvot', 0.0004325138310350079, 2.8175755524800895e-05],\n",
       " [57640.179856, 'UVW1.uvot', 0.00039810717055349524, 2.5934362106624954e-05],\n",
       " [57642.571674, 'UVW1.uvot', 0.00034040818970099807, 2.956747967636376e-05],\n",
       " [57643.599295, 'UVW1.uvot', 0.0003162277660168379, 2.06003960708558e-05],\n",
       " [57645.846118, 'UVW1.uvot', 0.00027289777828080403, 2.0740649865426796e-05],\n",
       " [57648.717198, 'UVW1.uvot', 0.00022284351492702983, 1.6936449050628443e-05],\n",
       " [57651.434258, 'UVW1.uvot', 0.00018365383433483284, 1.5951969366398373e-05],\n",
       " [57655.386059, 'UVW1.uvot', 0.0001472312502432716, 1.7583972874701654e-05],\n",
       " [57655.447951, 'UVW1.uvot', 0.0001737800828749355, 2.4528312593614133e-05],\n",
       " [57657.503136, 'UVW1.uvot', 0.00013304544179780874, 1.4445225303792145e-05],\n",
       " [57660.438487, 'UVW1.uvot', 0.00012473835142429328, 1.35432944263198e-05],\n",
       " [57663.657083, 'UVW1.uvot', 0.00011376272858234239, 1.3586794449131374e-05],\n",
       " [57667.578428, 'UVW1.uvot', 0.00010375284158179998, 1.2391303809708445e-05],\n",
       " [57671.636078, 'UVW1.uvot', 8.550667128846805e-05, 1.2068899539611487e-05],\n",
       " [57676.562504, 'UVW1.uvot', 6.982324040771675e-05, 1.2887635407512105e-05],\n",
       " [57679.608003, 'UVW1.uvot', 7.726805850956989e-05, 1.174498200332933e-05],\n",
       " [57683.090346, 'UVW1.uvot', 7.311390834834128e-05, 1.1907362604774265e-05],\n",
       " [57687.8519, 'UVW1.uvot', 5.3951062251512666e-05, 1.0543791882892849e-05],\n",
       " [57691.859749, 'UVW1.uvot', 6.54636174067268e-05, 1.208295731719602e-05],\n",
       " [57713.133884, 'UVW1.uvot', 6.309573444801891e-05, 9.590745255842635e-06],\n",
       " [57716.753508, 'UVW1.uvot', 3.630780547701032e-05, 8.672553762775235e-06],\n",
       " [57720.103171, 'UVW1.uvot', 4.168693834703329e-05, 8.599593463489868e-06],\n",
       " [57724.804334, 'UVW1.uvot', 4.130475019901576e-05, 8.520751916716771e-06],\n",
       " [57728.154273, 'UVW1.uvot', 4.7424198526024286e-05, 8.753328784628086e-06],\n",
       " [57732.42904, 'UVW1.uvot', 3.019951720402019e-05, 8.852951482547593e-06],\n",
       " [57741.006306, 'UVW1.uvot', 4.7424198526024286e-05, 8.753328784628086e-06],\n",
       " [57743.159056, 'UVW1.uvot', 5.1999599653350875e-05, 1.1291569595314265e-05],\n",
       " [57744.568944, 'UVW1.uvot', 3.837072454922753e-05, 8.748701817638553e-06],\n",
       " [57748.574916, 'UVW1.uvot', 4.830588020397698e-05, 1.0489488608033364e-05],\n",
       " [57932.18016, 'UVW1.uvot', 2.5118864315095717e-05, 8.72718733097806e-06],\n",
       " [59724.486617, 'UVW1.uvot', 1.7060823890031207e-05, 6.483243963143257e-06],\n",
       " [59725.222928, 'UVW1.uvot', 2.6546055619755363e-05, 1.2393465882353301e-05],\n",
       " [59779.599682, 'UVW1.uvot', 2.58226019063459e-05, 9.252056150956091e-06],\n",
       " [59809.60422, 'UVW1.uvot', 1.5559656316050492e-05, 8.784714741883349e-06],\n",
       " [57630.882995, 'U.uvot', 0.0006486344335482348, 4.225475328936597e-05],\n",
       " [57635.244573, 'U.uvot', 0.00048752849010338494, 4.763945993006794e-05],\n",
       " [57636.61515, 'U.uvot', 0.0005058246620031064, 4.3935371903705306e-05],\n",
       " [57638.60963, 'U.uvot', 0.00044463126746910835, 4.344770383728357e-05],\n",
       " [57639.479349, 'U.uvot', 0.0003837072454922752, 3.749443636130809e-05],\n",
       " [57640.180762, 'U.uvot', 0.00040550853544838095, 3.9624776844727725e-05],\n",
       " [57642.572626, 'U.uvot', 0.0002679168324819015, 4.945079083125228e-05],\n",
       " [57643.600563, 'U.uvot', 0.000258226019063459, 3.6447493928008843e-05],\n",
       " [57645.847346, 'U.uvot', 0.00022284351492702983, 3.387289810125689e-05],\n",
       " [57648.718241, 'U.uvot', 0.00020701413487910202, 3.371441117023856e-05],\n",
       " [57651.435626, 'U.uvot', 0.00013427649611378532, 2.91577706557602e-05],\n",
       " [57655.387425, 'U.uvot', 9.37562006925883e-05, 3.461013051425419e-05],\n",
       " [57655.448662, 'U.uvot', 0.00015703628043335448, 4.9444992786842633e-05],\n",
       " [57657.505113, 'U.uvot', 0.00010665961212302457, 3.1267134666205254e-05],\n",
       " [57660.439866, 'U.uvot', 0.00011912420080273664, 2.9747615265113974e-05],\n",
       " [57663.658331, 'U.uvot', 3.837072454922753e-05, 2.7495919998292602e-05],\n",
       " [57667.579686, 'U.uvot', 6.854882264526591e-05, 2.8281856645013466e-05],\n",
       " [57671.637254, 'U.uvot', 7.379042301290985e-05, 2.884209617863212e-05],\n",
       " [57676.563305, 'U.uvot', 3.1915378551007186e-05, 2.9453929684181118e-05],\n",
       " [57679.609614, 'U.uvot', 3.499451670283548e-05, 2.659636962659709e-05],\n",
       " [57683.092369, 'U.uvot', 4.6558609352295805e-05, 2.9319213333847236e-05],\n",
       " [57687.853237, 'U.uvot', 3.564511334262409e-05, 2.7090833055155826e-05],\n",
       " [57691.861766, 'U.uvot', 1.6143585568264804e-05, 2.7869003768460743e-05],\n",
       " [57713.135339, 'U.uvot', 1.169499391019865e-05, 2.133209954858391e-05],\n",
       " [57716.755743, 'U.uvot', 4.613175745603772e-06, 2.15373752814306e-05],\n",
       " [57724.805168, 'U.uvot', 1.5559656316050494e-06, 2.0914378558560746e-05],\n",
       " [57728.156127, 'U.uvot', 1.3427649611378531e-05, 2.128517257870494e-05],\n",
       " [57741.008315, 'U.uvot', 3.435579478998757e-06, 2.0926046268415656e-05],\n",
       " [57743.161362, 'U.uvot', 3.872576449216148e-05, 2.5648038385306685e-05],\n",
       " [57748.576368, 'U.uvot', 4.0926065973000924e-06, 2.3150588915052765e-05],\n",
       " [57932.181307, 'U.uvot', 1.1481536214968887e-07, 2.4383338649254005e-05],\n",
       " [57630.883739, 'B.uvot', 0.0005597576014951116, 7.29298912598179e-05],\n",
       " [57635.245548, 'B.uvot', 0.00048752849010338494, 8.469237320900967e-05],\n",
       " [57636.615772, 'B.uvot', 0.0003597493351557401, 7.811857556325072e-05],\n",
       " [57638.610276, 'B.uvot', 0.00046558609352295813, 8.08805885071648e-05],\n",
       " [57639.480004, 'B.uvot', 0.0003531831697919584, 7.669275087087339e-05],\n",
       " [57640.181232, 'B.uvot', 0.00033113112148258807, 7.90946303654778e-05],\n",
       " [57642.573126, 'B.uvot', 0.00022698648518838118, 9.611450353432994e-05],\n",
       " [57643.601147, 'B.uvot', 0.0002443430552693961, 7.693470943128799e-05],\n",
       " [57645.847969, 'B.uvot', 0.00014190575216890838, 7.241394001281258e-05],\n",
       " [57648.718874, 'B.uvot', 0.0001541700452949555, 7.197683994235157e-05],\n",
       " [57651.436318, 'B.uvot', 0.00015275660582380636, 6.96584185327267e-05],\n",
       " [57655.388136, 'B.uvot', 8.317637711026674e-05, 8.127684360830876e-05],\n",
       " [57655.449048, 'B.uvot', 0.00010280162981264745, 0.00010268621528407529],\n",
       " [57657.506127, 'B.uvot', 9.549925860214367e-05, 7.36177718402537e-05],\n",
       " [57660.440491, 'B.uvot', 4.092606597300093e-05, 6.887411289507062e-05],\n",
       " [57663.658947, 'B.uvot', 0.00014060475241299127, 7.175004502024366e-05],\n",
       " [57667.580326, 'B.uvot', 2.3550492838960085e-05, 6.852658887661815e-05],\n",
       " [57671.637819, 'B.uvot', 0.0001180320635651737, 7.304646029896252e-05],\n",
       " [57676.563795, 'B.uvot', 5.649369748122964e-05, 7.421807576218923e-05],\n",
       " [57679.610281, 'B.uvot', 1.2022644346174081e-05, 6.709458005195919e-05],\n",
       " [57683.093403, 'B.uvot', 5.058246620031064e-05, 7.194417149231745e-05],\n",
       " [57687.853864, 'B.uvot', 1.3931568029452977e-05, 6.83695552497984e-05],\n",
       " [57691.8628, 'B.uvot', 6.081350012787114e-08, 7.016865853571555e-05],\n",
       " [57932.181883, 'B.uvot', 2.466039337234316e-07, 6.43475930293291e-05],\n",
       " [59725.225522, 'B.uvot', 3.732501577957229e-05, 7.69977298525952e-05],\n",
       " [59779.601558, 'B.uvot', 2.398832919019485e-05, 6.328934390908546e-05],\n",
       " [57390.74271752, 'W1.wise', 4.063705444407563e-05, 1.828864408673325e-05],\n",
       " [57581.86470821, 'W1.wise', -5.687380481112348e-05, 1.9272852738311005e-05],\n",
       " [57749.834980190004,\n",
       "  'W1.wise',\n",
       "  -8.699503211741873e-07,\n",
       "  1.9516850909578927e-05],\n",
       " [57946.13829958, 'W1.wise', 2.0070747464730287e-05, 1.8364898061346414e-05],\n",
       " [58110.59816627, 'W1.wise', -1.816607251447768e-05, 1.73954281660889e-05],\n",
       " [58313.174390140004,\n",
       "  'W1.wise',\n",
       "  -0.00010312271456714353,\n",
       "  1.9299765845752984e-05],\n",
       " [58474.059448815, 'W1.wise', -1.4661387653772154e-05, 1.9509036467764493e-05],\n",
       " [58677.31317028, 'W1.wise', -6.160676370525803e-05, 1.8654452234950332e-05],\n",
       " [58838.243570705, 'W1.wise', -5.3851986990900274e-05, 1.9900636524264923e-05],\n",
       " [59042.0191606, 'W1.wise', -0.00012183710665199785, 1.3570843809458544e-05],\n",
       " [59202.4695964, 'W1.wise', -5.403106924808132e-05, 1.8271422490122828e-05],\n",
       " [59408.69901649, 'W1.wise', -0.00011249836850765624, 1.8981547445224617e-05],\n",
       " [59569.59935617, 'W1.wise', -1.4232782213346294e-05, 1.83916589845289e-05],\n",
       " [59772.862504355, 'W1.wise', -0.00010893163906381504, 2.1415431867846403e-05],\n",
       " [59933.73787494, 'W1.wise', -4.474986729396018e-05, 1.8698666400672525e-05],\n",
       " [60139.894684419996,\n",
       "  'W1.wise',\n",
       "  -9.293851047079124e-05,\n",
       "  1.8391618469461998e-05],\n",
       " [57390.74271752, 'W2.wise', -9.991373102712643e-06, 1.936123499089571e-05],\n",
       " [57581.86470821, 'W2.wise', -6.646143269696744e-06, 2.0990689038836524e-05],\n",
       " [57749.834980190004,\n",
       "  'W2.wise',\n",
       "  -4.251923028771477e-05,\n",
       "  2.2080555252934413e-05],\n",
       " [57946.13829958, 'W2.wise', 7.315228118688003e-05, 2.101579928446721e-05],\n",
       " [58110.59816627, 'W2.wise', -2.1414365849890556e-05, 1.9650476895288037e-05],\n",
       " [58313.174390140004,\n",
       "  'W2.wise',\n",
       "  -1.1663873761868795e-05,\n",
       "  2.6904165174621415e-05],\n",
       " [58474.059448815, 'W2.wise', -5.135728179938352e-05, 2.212051747917422e-05],\n",
       " [58677.31317028, 'W2.wise', -8.438946768046813e-05, 2.5264800877087322e-05],\n",
       " [58838.243570705, 'W2.wise', -1.9447545101490366e-05, 2.1264087881250635e-05],\n",
       " [59042.0191606, 'W2.wise', -8.172817363212033e-05, 1.9861975779447896e-05],\n",
       " [59202.4695964, 'W2.wise', -3.90482640546707e-05, 2.038205861062553e-05],\n",
       " [59408.69901649, 'W2.wise', -8.265481251535651e-05, 2.634792388646882e-05],\n",
       " [59569.59935617, 'W2.wise', -3.71077127129257e-05, 2.1961389211076232e-05],\n",
       " [59772.862504355, 'W2.wise', -5.7062233683074095e-05, 2.738951271968857e-05],\n",
       " [59933.73787494, 'W2.wise', -2.4298214274731727e-05, 2.1765869394278414e-05],\n",
       " [60139.894684419996,\n",
       "  'W2.wise',\n",
       "  3.302860214384479e-05,\n",
       "  2.5253916506624154e-05],\n",
       " [57631.696023, 'u.sdss', 0.000518858, 4.3009700803398996e-05],\n",
       " [57632.996886999994, 'u.sdss', 0.000528504, 3.4073948294411126e-05],\n",
       " [57634.704270999995, 'u.sdss', 0.000504717, 3.25403052356615e-05],\n",
       " [57635.801875, 'u.sdss', 0.000468865, 3.454732956682624e-05],\n",
       " [57636.797848999995, 'u.sdss', 0.000431567, 3.179897300758589e-05],\n",
       " [57637.702355999994, 'u.sdss', 0.000389985, 4.310272376694453e-05],\n",
       " [57638.69833, 'u.sdss', 0.000372433, 2.4011722669705694e-05],\n",
       " [57639.704466999996, 'u.sdss', 0.000349179, 2.8944436426471855e-05],\n",
       " [57640.70044099999, 'u.sdss', 0.000321402, 2.0721598110652853e-05],\n",
       " [57654.694892, 'u.sdss', 0.000139011, 2.6887188711653917e-05],\n",
       " [57657.70314, 'u.sdss', 0.000136473, 1.1312660992944994e-05],\n",
       " [57662.703336, 'u.sdss', 8.85214e-05, 6.522502899742233e-06],\n",
       " [57681.59635299999, 'u.sdss', 4.82001e-05, 4.439391354773947e-06],\n",
       " [57626.401099999995, 'g.ztf', 0.000369019, 2.379145054717362e-05],\n",
       " [57629.399184999995, 'g.ztf', 0.000473204, 3.922537709195281e-05],\n",
       " [57631.696023, 'g.ztf', 0.00050009, 3.224204903897609e-05],\n",
       " [57632.397269999994, 'g.ztf', 0.000468865, 3.0228863545461957e-05],\n",
       " [57632.996886999994, 'g.ztf', 0.000468865, 3.0228863545461957e-05],\n",
       " [57634.704270999995, 'g.ztf', 0.000473204, 2.6150318465823325e-05],\n",
       " [57635.395355, 'g.ztf', 0.000447763, 2.4744352582100552e-05],\n",
       " [57635.801875, 'g.ztf', 0.00042369, 2.7316262214581514e-05],\n",
       " [57636.797848999995, 'g.ztf', 0.00038641, 2.8471680379087687e-05],\n",
       " [57637.702355999994, 'g.ztf', 0.000355671, 2.293089287520578e-05],\n",
       " [57638.403603, 'g.ztf', 0.000339663, 2.1898904039524423e-05],\n",
       " [57638.69833, 'g.ztf', 0.00035241, 2.2720739504290776e-05],\n",
       " [57639.704466999996, 'g.ztf', 0.000324376, 2.0913308067737733e-05],\n",
       " [57640.70044099999, 'g.ztf', 0.000306936, 1.978887377854113e-05],\n",
       " [57641.401688, 'g.ztf', 0.000277363, 2.043687125684646e-05],\n",
       " [57642.397661999996, 'g.ztf', 0.000252958, 1.863868011199847e-05],\n",
       " [57654.694892, 'g.ztf', 0.000116694, 1.2897484668386347e-05],\n",
       " [57655.497768999994, 'g.ztf', 0.000112473, 8.287311590700104e-06],\n",
       " [57657.70314, 'g.ztf', 9.10014e-05, 1.1734139006863249e-05],\n",
       " [57661.504102, 'g.ztf', 8.14795e-05, 1.5009080818069794e-05],\n",
       " [57662.703336, 'g.ztf', 5.14101e-05, 5.682073635616438e-06],\n",
       " [57664.502187, 'g.ztf', 7.85323e-05, 8.67971316973871e-06],\n",
       " [57665.701421, 'g.ztf', 9.26933e-05, 2.5612029318908034e-05],\n",
       " [57667.500272, 'g.ztf', 7.78123e-05, 7.166765634057034e-06],\n",
       " [57670.498357, 'g.ztf', 6.06804e-05, 6.147760844375473e-06],\n",
       " [57670.599986999994, 'g.ztf', 5.95728e-05, 4.93817520839807e-06],\n",
       " [57673.598072, 'g.ztf', 5.53411e-05, 5.097114973948959e-06],\n",
       " [57679.899132, 'g.ztf', 6.90316e-05, 9.537060107439439e-06],\n",
       " [57682.2976, 'g.ztf', 1.90129e-05, 5.603687943228636e-06],\n",
       " [57683.202107, 'g.ztf', 3.21402e-05, 1.036077372286079e-05],\n",
       " [57687.297796, 'g.ztf', 3.89985e-05, 6.106210907711914e-06],\n",
       " [57688.303932999996, 'g.ztf', 2.32835e-05, 7.720139447872378e-06],\n",
       " [57694.300102999994, 'g.ztf', 2.82519e-05, 5.724607436542077e-06],\n",
       " [57695.20461, 'g.ztf', 2.723e-05, 5.768363890962026e-06],\n",
       " [57696.302213999996, 'g.ztf', 3.30406e-05, 6.999258150870547e-06],\n",
       " [57698.202695, 'g.ztf', 5.23659e-05, 7.716903144310684e-06],\n",
       " [57629.399184999995, 'r.ztf', 0.000355671, 2.6206924358574322e-05],\n",
       " [57631.696023, 'r.ztf', 0.000397236, 4.39041885483871e-05],\n",
       " [57632.996886999994, 'r.ztf', 0.00043959, 3.643905004294415e-05],\n",
       " [57634.704270999995, 'r.ztf', 0.000431567, 4.7698532010895864e-05],\n",
       " [57635.395355, 'r.ztf', 0.000375879, 2.7695727142313607e-05],\n",
       " [57635.801875, 'r.ztf', 0.000382867, 3.878953525403976e-05],\n",
       " [57636.797848999995, 'r.ztf', 0.000336549, 3.4097099122918846e-05],\n",
       " [57637.702355999994, 'r.ztf', 0.000324376, 2.0913323629758308e-05],\n",
       " [57638.403603, 'r.ztf', 0.000269804, 2.4849867120261217e-05],\n",
       " [57638.69833, 'r.ztf', 0.000321402, 2.0721643624907667e-05],\n",
       " [57639.704466999996, 'r.ztf', 0.000306936, 1.978891989041096e-05],\n",
       " [57640.70044099999, 'r.ztf', 0.000306936, 1.696191090410959e-05],\n",
       " [57641.401688, 'r.ztf', 0.000190129, 1.5760367876694505e-05],\n",
       " [57642.397661999996, 'r.ztf', 0.000224413, 1.2401513628079012e-05],\n",
       " [57644.796129999995, 'r.ztf', 0.000179907, 1.491304422124534e-05],\n",
       " [57654.694892, 'r.ztf', 0.000124465, 1.948818620390117e-05],\n",
       " [57655.497768999994, 'r.ztf', 0.000100704, 1.0202715958634286e-05],\n",
       " [57657.70314, 'r.ztf', 0.000107411, 1.4839396872386998e-05],\n",
       " [57661.504102, 'r.ztf', 6.77717e-05, 5.61781373996058e-06],\n",
       " [57662.703336, 'r.ztf', 7.36289e-05, 1.0850365485181747e-05],\n",
       " [57664.502187, 'r.ztf', 9.44166e-05, 9.565710213937764e-06],\n",
       " [57665.701421, 'r.ztf', 7.2285e-05, 6.6576761487965e-06],\n",
       " [57667.500272, 'r.ztf', 0.000103526, 8.581597565362501e-06],\n",
       " [57670.498357, 'r.ztf', 4.77582e-05, 5.718307287133694e-06],\n",
       " [57670.599986999994, 'r.ztf', 7.43102e-05, 7.52864114564609e-06],\n",
       " [57673.598072, 'r.ztf', 7.56917e-05, 6.971458675589784e-06],\n",
       " [57679.899132, 'r.ztf', 3.21402e-05, 6.512504309450284e-06],\n",
       " [57681.301626, 'r.ztf', 3.58962e-05, 7.604191468457915e-06],\n",
       " [57682.2976, 'r.ztf', 2.24413e-05, 5.373994959379852e-06],\n",
       " [57683.202107, 'r.ztf', 2.41573e-05, 7.564889561900071e-06],\n",
       " [57684.299711, 'r.ztf', 5.04717e-05, 8.832361582642897e-06],\n",
       " [57694.300102999994, 'r.ztf', 5.04717e-05, 1.1621522376599531e-05],\n",
       " [57696.302213999996, 'r.ztf', 1.70235e-05, 5.644533799643462e-06]]"
      ]
     },
     "execution_count": 10,
     "metadata": {},
     "output_type": "execute_result"
    }
   ],
   "source": [
    "TDE_data[59].get('lightcurve')['data']"
   ]
  },
  {
   "cell_type": "code",
   "execution_count": 11,
   "id": "f3a5377f-07cc-4c6b-aacb-b0d39d7447a0",
   "metadata": {},
   "outputs": [
    {
     "data": {
      "text/plain": [
       "59694.95833333332"
      ]
     },
     "execution_count": 11,
     "metadata": {},
     "output_type": "execute_result"
    }
   ],
   "source": [
    "TDE_data[91]['lightcurve'][\"data\"][0][0]\n",
    "TDE_data[91].get('peak_mjd')"
   ]
  },
  {
   "cell_type": "code",
   "execution_count": 48,
   "id": "c728231e-2abd-45e0-9766-e1a97ff103c1",
   "metadata": {},
   "outputs": [
    {
     "ename": "KeyError",
     "evalue": "0",
     "output_type": "error",
     "traceback": [
      "\u001b[0;31m---------------------------------------------------------------------------\u001b[0m",
      "\u001b[0;31mKeyError\u001b[0m                                  Traceback (most recent call last)",
      "Cell \u001b[0;32mIn[48], line 40\u001b[0m\n\u001b[1;32m     38\u001b[0m         plt\u001b[38;5;241m.\u001b[39mylim(\u001b[38;5;241m-\u001b[39m\u001b[38;5;241m10\u001b[39m,\u001b[38;5;241m-\u001b[39m\u001b[38;5;241m22\u001b[39m)\n\u001b[1;32m     39\u001b[0m         \u001b[38;5;28;01mreturn\u001b[39;00m(lightcurve)\n\u001b[0;32m---> 40\u001b[0m \u001b[43mplot_lightcurve\u001b[49m\u001b[43m(\u001b[49m\u001b[43mTDE_data\u001b[49m\u001b[43m[\u001b[49m\u001b[38;5;241;43m59\u001b[39;49m\u001b[43m]\u001b[49m\u001b[38;5;241;43m.\u001b[39;49m\u001b[43mget\u001b[49m\u001b[43m(\u001b[49m\u001b[38;5;124;43m'\u001b[39;49m\u001b[38;5;124;43mname\u001b[39;49m\u001b[38;5;124;43m'\u001b[39;49m\u001b[43m)\u001b[49m\u001b[43m)\u001b[49m\n",
      "Cell \u001b[0;32mIn[48], line 17\u001b[0m, in \u001b[0;36mplot_lightcurve\u001b[0;34m(tde_name)\u001b[0m\n\u001b[1;32m     15\u001b[0m lc_filters \u001b[38;5;241m=\u001b[39m TDE_data[\u001b[38;5;124m'\u001b[39m\u001b[38;5;124mlightcurve\u001b[39m\u001b[38;5;124m'\u001b[39m][\u001b[38;5;124m'\u001b[39m\u001b[38;5;124mfilters\u001b[39m\u001b[38;5;124m'\u001b[39m]\n\u001b[1;32m     16\u001b[0m \u001b[38;5;28;01mfor\u001b[39;00m m \u001b[38;5;129;01min\u001b[39;00m \u001b[38;5;28mrange\u001b[39m(\u001b[38;5;28mlen\u001b[39m(TDE_data)):\n\u001b[0;32m---> 17\u001b[0m     peak_year \u001b[38;5;241m=\u001b[39m \u001b[43mTDE_data\u001b[49m\u001b[43m[\u001b[49m\u001b[43mm\u001b[49m\u001b[43m]\u001b[49m\u001b[38;5;241m.\u001b[39mget(\u001b[38;5;124m'\u001b[39m\u001b[38;5;124mpeak_mjd\u001b[39m\u001b[38;5;124m'\u001b[39m)\n\u001b[1;32m     18\u001b[0m     \u001b[38;5;28;01mfor\u001b[39;00m i \u001b[38;5;129;01min\u001b[39;00m \u001b[38;5;28mrange\u001b[39m (\u001b[38;5;28mlen\u001b[39m(TDE_data[m][\u001b[38;5;124m'\u001b[39m\u001b[38;5;124mlightcurve\u001b[39m\u001b[38;5;124m'\u001b[39m][\u001b[38;5;124m\"\u001b[39m\u001b[38;5;124mdata\u001b[39m\u001b[38;5;124m\"\u001b[39m])):\n\u001b[1;32m     19\u001b[0m         \u001b[38;5;66;03m#for filter in lc_filters:\u001b[39;00m\n\u001b[1;32m     20\u001b[0m             \u001b[38;5;66;03m# find the observations whose filter == the filter in the loop\u001b[39;00m\n\u001b[1;32m     21\u001b[0m         flux_filter\u001b[38;5;241m.\u001b[39mappend(TDE_data[m][\u001b[38;5;124m'\u001b[39m\u001b[38;5;124mlightcurve\u001b[39m\u001b[38;5;124m'\u001b[39m][\u001b[38;5;124m\"\u001b[39m\u001b[38;5;124mdata\u001b[39m\u001b[38;5;124m\"\u001b[39m][i][\u001b[38;5;241m2\u001b[39m])\n",
      "\u001b[0;31mKeyError\u001b[0m: 0"
     ]
    }
   ],
   "source": [
    "for json_file in json_list:\n",
    "    tde_name = json_file[:-5]\n",
    "    def plot_lightcurve(tde_name):\n",
    "        with open(\"/Users/snorris/manyTDE/data/sources/{}.json\".format(tde_name)) as f:\n",
    "            TDE_data = json.load(f)\n",
    "        flux_filter = []\n",
    "        mag_filter = []\n",
    "        absMag_filter = []\n",
    "        error_filter = []\n",
    "        flux_error_filter = []\n",
    "        mag_error_filter = []\n",
    "        mjd_date_filter = []\n",
    "        peak_date_filter = []\n",
    "        rest_time_filter = []\n",
    "        lc_filters = TDE_data['lightcurve']['filters']\n",
    "        for m in range(len(TDE_data)):\n",
    "            peak_year = TDE_data[m].get('peak_mjd')\n",
    "            for i in range (len(TDE_data[m]['lightcurve'][\"data\"])):\n",
    "                #for filter in lc_filters:\n",
    "                    # find the observations whose filter == the filter in the loop\n",
    "                flux_filter.append(TDE_data[m]['lightcurve'][\"data\"][i][2])\n",
    "                error_filter.append(TDE_data[m]['lightcurve'][\"data\"][i][3])\n",
    "                mjd_date_filter.append(TDE_data[m]['lightcurve'][\"data\"][i][0])\n",
    "                distance = (sol*TDE_data[m].get('z'))/Ho         \n",
    "        distance_pc = distance.to(u.pc)\n",
    "        distance_mod = (5*np.log10(distance_pc/(10*u.pc)))\n",
    "        flux_filter = u.Jy*np.array(flux_filter)\n",
    "        mag_filter = u.Magnitude(flux_filter.to(u.AB))     \n",
    "        absMag_filter = mag_filter.value - distance_mod\n",
    "        flux_error_filter = u.Jy * np.array(error_filter)\n",
    "        mjd_date_filter= np.array(mjd_date_filter)\n",
    "        peak_date_filter = mjd_date_filter - peak_year\n",
    "        rest_time_filter = peak_date_filter*np.sqrt(1-TDE_data[m].get('z')**2)\n",
    "        mag_error_filter = np.sqrt((2.5/np.log(10))*(flux_error_filter/flux_filter)**2)    \n",
    "        lightcurve = plt.errorbar(rest_time_filter,absMag_filter,yerr = mag_error_filter,fmt='k.')\n",
    "        plt.gca().invert_yaxis()\n",
    "        plt.xlim(-5,150)\n",
    "        plt.ylim(-10,-22)\n",
    "        return(lightcurve)\n",
    "plot_lightcurve(TDE_data[59].get('name'))"
   ]
  },
  {
   "cell_type": "code",
   "execution_count": 47,
   "id": "a22625db-9797-443c-a2e3-91f841e3f363",
   "metadata": {},
   "outputs": [
    {
     "data": {
      "text/plain": [
       "<ErrorbarContainer object of 3 artists>"
      ]
     },
     "execution_count": 47,
     "metadata": {},
     "output_type": "execute_result"
    },
    {
     "data": {
      "image/png": "[encoded data removed]",
      "text/plain": [
       "<Figure size 640x480 with 1 Axes>"
      ]
     },
     "metadata": {},
     "output_type": "display_data"
    }
   ],
   "source": [
    "def plot_lightcurve(tde_name):\n",
    "    with open(\"/Users/snorris/manyTDE/data/sources/{}.json\".format(tde_name)) as f:\n",
    "        tde_data = json.load(f)\n",
    "    flux_filter = []\n",
    "    mag_filter = []\n",
    "    absMag_filter = []\n",
    "    error_filter = []\n",
    "    flux_error_filter = []\n",
    "    mag_error_filter = []\n",
    "    mjd_date_filter = []\n",
    "    peak_date_filter = []\n",
    "    rest_time_filter = []\n",
    "    lc_filters = tde_data['lightcurve']['filters']\n",
    "    for i in range (len(tde_data['lightcurve'][\"data\"])):\n",
    "        peak_year = tde_data.get('peak_mjd')\n",
    "        flux_filter.append(tde_data['lightcurve'][\"data\"][i][2])\n",
    "        error_filter.append(tde_data['lightcurve'][\"data\"][i][3])\n",
    "        mjd_date_filter.append(tde_data['lightcurve'][\"data\"][i][0])\n",
    "        distance = (sol*tde_data.get('z'))/Ho         \n",
    "    distance_pc = distance.to(u.pc)\n",
    "    distance_mod = (5*np.log10(distance_pc/(10*u.pc)))\n",
    "    flux_filter = u.Jy*np.array(flux_filter)\n",
    "    mag_filter = u.Magnitude(flux_filter.to(u.AB))     \n",
    "    absMag_filter = mag_filter.value - distance_mod\n",
    "    flux_error_filter = u.Jy * np.array(error_filter)\n",
    "    mjd_date_filter= np.array(mjd_date_filter)\n",
    "    peak_date_filter = mjd_date_filter - peak_year\n",
    "    rest_time_filter = peak_date_filter*np.sqrt(1-tde_data.get('z')**2)\n",
    "    mag_error_filter = np.sqrt((2.5/np.log(10))*(flux_error_filter/flux_filter)**2) \n",
    "    for element in lc_filters: \n",
    "        lightcurve = plt.errorbar(rest_time_filter,absMag_filter,yerr = mag_error_filter,fmt='.',label= element)\n",
    "        plt.gca().invert_yaxis()\n",
    "        plt.xlim(-5,150)\n",
    "        plt.ylim(-10,-22)\n",
    "        plt.legend()\n",
    "    return(lightcurve)\n",
    "plot_lightcurve(TDE_data[60].get('name'))"
   ]
  },
  {
   "cell_type": "code",
   "execution_count": 90,
   "id": "e0b2bbf2-53c2-410e-9837-1252c25ce8a6",
   "metadata": {},
   "outputs": [
    {
     "data": {
      "text/plain": [
       "dict_values(['g', 'r', 'brown', 'g', 'r', 'brown', 'g', 'r', 'brown', 'violet', 'magenta', 'fuchsia', 'darkblue', 'darkblue', 'darkviolet', 'darkviolet', 'magenta', 'darkviolet', 'magenta', 'lightblue', 'orange', 'cyan', 'orange', 'cyan', 'orange'])"
      ]
     },
     "execution_count": 90,
     "metadata": {},
     "output_type": "execute_result"
    }
   ],
   "source": [
    "lc_color_dict = {}\n",
    "for surv in ['ztf','ps','sdss']:\n",
    "  lc_color_dict['g.'+surv] = 'g'\n",
    "  lc_color_dict['r.'+surv] = 'r'\n",
    "  lc_color_dict['i.'+surv] = 'brown'\n",
    "\n",
    "lc_color_dict['UVW2.uvot'] = 'violet'\n",
    "lc_color_dict['UVM2.uvot'] = 'magenta'\n",
    "lc_color_dict['UVW1.uvot'] = 'fuchsia'\n",
    "\n",
    "lc_color_dict['U.uvot'] = 'darkblue'\n",
    "lc_color_dict['u.sdss'] = 'darkblue'\n",
    "\n",
    "lc_color_dict['F125LP'] = 'darkviolet'\n",
    "lc_color_dict['F150LP'] = 'darkviolet'\n",
    "lc_color_dict['F225W'] = 'magenta'\n",
    "\n",
    "lc_color_dict['FUV'] = 'darkviolet'\n",
    "lc_color_dict['NUV'] = 'magenta'\n",
    "\n",
    "lc_color_dict['B.uvot'] = 'lightblue'\n",
    "lc_color_dict['V.uvot'] = 'orange'\n",
    "lc_color_dict['c.atlas'] = 'cyan'\n",
    "lc_color_dict['o.atlas'] = 'orange'\n",
    "lc_color_dict['W1.wise'] = 'cyan'\n",
    "lc_color_dict['W2.wise'] = 'orange'\n",
    "\n",
    "marker_dict = {key:'o' for key in lc_color_dict}\n",
    "marker_dict['UVW1.uvot'] = 's'\n",
    "marker_dict['UVM2.uvot'] = 's'\n",
    "marker_dict['UVW2.uvot'] = 's'\n",
    "\n",
    "marker_dict['r.ztf'] = 's'\n",
    "\n",
    "marker_dict['F125LP'] = '*'\n",
    "marker_dict['F150LP'] = 'd'\n",
    "marker_dict['F225W'] = '*'\n",
    "lc_color_dict.values()"
   ]
  },
  {
   "cell_type": "code",
   "execution_count": 102,
   "id": "c77710f8-b16e-490f-8d2d-d295eabc9d37",
   "metadata": {},
   "outputs": [
    {
     "name": "stdout",
     "output_type": "stream",
     "text": [
      "ASASSN-14ae\n"
     ]
    },
    {
     "data": {
      "text/plain": [
       "(None, <ErrorbarContainer object of 3 artists>)"
      ]
     },
     "execution_count": 102,
     "metadata": {},
     "output_type": "execute_result"
    },
    {
     "data": {
      "image/png": "[encoded data removed]",
      "text/plain": [
       "<Figure size 640x480 with 1 Axes>"
      ]
     },
     "metadata": {},
     "output_type": "display_data"
    }
   ],
   "source": [
    "for json_file in json_list:\n",
    "    tde_name = json_file[:-5]\n",
    "    def plot_lightcurve(tde_name):\n",
    "        with open(\"/Users/snorris/manyTDE/data/sources/{}.json\".format(tde_name)) as f:\n",
    "            tde_data = json.load(f)\n",
    "        flux_filter = []\n",
    "        mag_filter = []\n",
    "        absMag_filter = []\n",
    "        error_filter = []\n",
    "        flux_error_filter = []\n",
    "        mag_error_filter = []\n",
    "        mjd_date_filter = []\n",
    "        peak_date_filter = []\n",
    "        rest_time_filter = []\n",
    "        lc_filters = tde_data['lightcurve']['filters']\n",
    "        for i in range (len(tde_data['lightcurve'][\"data\"])):\n",
    "            peak_year = tde_data.get('peak_mjd')\n",
    "            flux_filter.append(tde_data['lightcurve'][\"data\"][i][2])\n",
    "            error_filter.append(tde_data['lightcurve'][\"data\"][i][3])\n",
    "            mjd_date_filter.append(tde_data['lightcurve'][\"data\"][i][0])\n",
    "            distance = (sol*tde_data.get('z'))/Ho         \n",
    "        distance_pc = distance.to(u.pc)\n",
    "        distance_mod = (5*np.log10(distance_pc/(10*u.pc)))\n",
    "        flux_filter = u.Jy*np.array(flux_filter)\n",
    "        mag_filter = u.Magnitude(flux_filter.to(u.AB))     \n",
    "        absMag_filter = mag_filter.value - distance_mod\n",
    "        flux_error_filter = u.Jy * np.array(error_filter)\n",
    "        mjd_date_filter= np.array(mjd_date_filter)\n",
    "        peak_date_filter = mjd_date_filter - peak_year\n",
    "        rest_time_filter = peak_date_filter*np.sqrt(1-tde_data.get('z')**2)\n",
    "        mag_error_filter = np.sqrt((2.5/np.log(10))*(flux_error_filter/flux_filter)**2) \n",
    "        for element in lc_filters: \n",
    "            lightcurve = plt.errorbar(rest_time_filter,absMag_filter,yerr = mag_error_filter,fmt='.',label= element, c = lc_color_dict[element])\n",
    "            plt.gca().invert_yaxis()\n",
    "            plt.xlim(-5,150)\n",
    "            plt.ylim(-10,-22)\n",
    "            plt.legend()\n",
    "            plt.xlabel(\"Rest Frame Days\")\n",
    "            plt.ylabel(\"AB Absolute Magnitude\")\n",
    "            plt.legend()\n",
    "            plt.title(\"Lightcurve of {}\".format(tde_name))\n",
    "        return(print(tde_name),lightcurve)\n",
    "plot_lightcurve(json_list[60].replace('.json',''))"
   ]
  },
  {
   "cell_type": "code",
   "execution_count": null,
   "id": "367fbbb5-4f86-4004-b39f-698629ad58e5",
   "metadata": {},
   "outputs": [],
   "source": []
  },
  {
   "cell_type": "code",
   "execution_count": null,
   "id": "e15305e9-1340-4624-bae5-23a536e3d7df",
   "metadata": {},
   "outputs": [],
   "source": []
  }
 ],
 "metadata": {
  "kernelspec": {
   "display_name": "Python 3 (ipykernel)",
   "language": "python",
   "name": "python3"
  },
  "language_info": {
   "codemirror_mode": {
    "name": "ipython",
    "version": 3
   },
   "file_extension": ".py",
   "mimetype": "text/x-python",
   "name": "python",
   "nbconvert_exporter": "python",
   "pygments_lexer": "ipython3",
   "version": "3.12.3"
  }
 },
 "nbformat": 4,
 "nbformat_minor": 5
}
